{
 "cells": [
  {
   "cell_type": "markdown",
   "metadata": {},
   "source": [
    "# Version history\n",
    "- V12 - (ENet B7 + DenseNet, best_alpha=0.5) + AugMix + part of Oxford Dataset **(0.96564)**\n",
    "- V15 - (ENet B7 + DenseNet, best_alpha=0.44) + AugMix + part of Oxford Dataset (0.96194)\n",
    "- V16 - (ENet B7 + ResNet152V2, best_alpha=0.5) + AugMix + part of Oxford Dataset (0.96013)\n",
    "- V17 - (V12), EPOCHS 20-> 25 (0.96404)\n",
    "- V19 - (V12), ENet B7 weights -> noisy-student, no normalization, with validation (0.95663)\n",
    "- V20 - (V19) with normalization and validation (0.95331)\n",
    "- V21 - (V19) no validation **(0.96445)**\n",
    "- V22 - (V21), ENet B7 weights -> imagenet, remove custom params, 30 epochs (0.96375)\n",
    "- V23 - (V22), Enet for 25 epochs, DenseNet for 20 epochs, kick up augmix level and add normalization (0.96170)\n",
    "\n",
    "\n",
    "IDEAS: grid mask + cutmix ? \n",
    "加上标签平滑？\n",
    "tf.losses.softmax_cross_entropy(onehot_labels=y, logits=logit, label_smoothing=0.001)"
   ]
  },
  {
   "cell_type": "code",
   "execution_count": 1,
   "metadata": {},
   "outputs": [],
   "source": [
    "import time\n",
    "start_time = time.time()\n",
    "def measure_time(exec_history, event):\n",
    "    exec_history.append([event, time.time()-start_time])\n",
    "    return exec_history\n",
    "\n",
    "exec_history = measure_time([], \"Start notebook\")\n"
   ]
  },
  {
   "cell_type": "code",
   "execution_count": 2,
   "metadata": {},
   "outputs": [],
   "source": [
    "!pip install -q efficientnet"
   ]
  },
  {
   "cell_type": "code",
   "execution_count": 3,
   "metadata": {
    "_cell_guid": "b1076dfc-b9ad-4769-8c92-a6c4dae69d19",
    "_uuid": "8f2839f25d086af736a60e9eeb907d3b93b6e0e5"
   },
   "outputs": [
    {
     "name": "stdout",
     "output_type": "stream",
     "text": [
      "Tensorflow version 2.1.0\n"
     ]
    }
   ],
   "source": [
    "import math, re, os\n",
    "import tensorflow as tf, tensorflow.keras.backend as K\n",
    "import tensorflow_probability as tfp\n",
    "import numpy as np\n",
    "from matplotlib import pyplot as plt\n",
    "from kaggle_datasets import KaggleDatasets\n",
    "import efficientnet.tfkeras as efn\n",
    "from tensorflow.keras.applications import DenseNet201\n",
    "from sklearn.metrics import f1_score, precision_score, recall_score, confusion_matrix\n",
    "print(\"Tensorflow version \" + tf.__version__)\n",
    "AUTO = tf.data.experimental.AUTOTUNE"
   ]
  },
  {
   "cell_type": "code",
   "execution_count": 4,
   "metadata": {
    "_cell_guid": "79c7e3d0-c299-4dcb-8224-4455121ee9b0",
    "_uuid": "d629ff2d2480ee46fbb7e2d37f6b5fab8052498a"
   },
   "outputs": [
    {
     "name": "stdout",
     "output_type": "stream",
     "text": [
      "Running on TPU  grpc://10.0.0.2:8470\n",
      "REPLICAS:  8\n"
     ]
    }
   ],
   "source": [
    "# Detect hardware, return appropriate distribution strategy\n",
    "try:\n",
    "    tpu = tf.distribute.cluster_resolver.TPUClusterResolver()  # TPU detection. No parameters necessary if TPU_NAME environment variable is set. On Kaggle this is always the case.\n",
    "    print('Running on TPU ', tpu.master())\n",
    "except ValueError:\n",
    "    tpu = None\n",
    "\n",
    "if tpu:\n",
    "    tf.config.experimental_connect_to_cluster(tpu)\n",
    "    tf.tpu.experimental.initialize_tpu_system(tpu)\n",
    "    strategy = tf.distribute.experimental.TPUStrategy(tpu)\n",
    "else:\n",
    "    strategy = tf.distribute.get_strategy() # default distribution strategy in Tensorflow. Works on CPU and single GPU.\n",
    "\n",
    "print(\"REPLICAS: \", strategy.num_replicas_in_sync)"
   ]
  },
  {
   "cell_type": "code",
   "execution_count": 5,
   "metadata": {},
   "outputs": [],
   "source": [
    "GCS_DS_PATH = KaggleDatasets().get_gcs_path('flower-classification-with-tpus') # you can list the bucket with \"!gsutil ls $GCS_DS_PATH\"\n",
    "#OXFORD_PATH = KaggleDatasets().get_gcs_path('tf-flower-photo-tfrec')\n",
    "#OXFORD_PATH = KaggleDatasets().get_gcs_path('oxford-102-for-tpu-competition')"
   ]
  },
  {
   "cell_type": "markdown",
   "metadata": {},
   "source": [
    "# Configuration"
   ]
  },
  {
   "cell_type": "code",
   "execution_count": 6,
   "metadata": {},
   "outputs": [],
   "source": [
    "#IMAGE_SIZE = [512, 512] # at this size, a GPU will run out of memory. Use the TPU\n",
    "IMAGE_SIZE = [331, 331]\n",
    "EPOCHS = 25\n",
    "\n",
    "BATCH_SIZE = 24 * strategy.num_replicas_in_sync\n",
    "\n",
    "\n",
    "GCS_PATH_SELECT = { # available image sizes\n",
    "    192: GCS_DS_PATH + '/tfrecords-jpeg-192x192',\n",
    "    224: GCS_DS_PATH + '/tfrecords-jpeg-224x224',\n",
    "    331: GCS_DS_PATH + '/tfrecords-jpeg-331x331',\n",
    "    #512: GCS_DS_PATH + '/tfrecords-jpeg-512x512'\n",
    "}\n",
    "GCS_PATH = GCS_PATH_SELECT[IMAGE_SIZE[0]]\n",
    "\n",
    "TRAINING_FILENAMES = tf.io.gfile.glob(GCS_PATH + '/train/*.tfrec')\n",
    "TRAINING_FILENAMES_model2 = tf.io.gfile.glob(GCS_PATH + '/train/*.tfrec')\n",
    "\n",
    "#tf.io.gfile.glob(OXFORD_PATH + '/*.tfrec')\n",
    "VALIDATION_FILENAMES = tf.io.gfile.glob(GCS_PATH + '/val/*.tfrec')\n",
    "TEST_FILENAMES = tf.io.gfile.glob(GCS_PATH + '/test/*.tfrec') # predictions on this dataset should be submitted for the competition\n"
   ]
  },
  {
   "cell_type": "code",
   "execution_count": 7,
   "metadata": {},
   "outputs": [
    {
     "data": {
      "text/plain": [
       "\"\\n\\nGCS_PATH_SELECT = { # available image sizes\\n    \\n    192: GCS_DS_PATH +'/openimage/tfrecords-jpeg-192x192/',\\n    224: GCS_DS_PATH + '/openimage/tfrecords-jpeg-224x224/',\\n    331: GCS_DS_PATH + '/openimage/tfrecords-jpeg-331x331/',\\n    #512: GCS_DS_PATH + '/inaturalist/tfrecords-jpeg-512x512/',\\n    \\n}\\n\\nGCS_PATH = GCS_PATH_SELECT[IMAGE_SIZE[0]]\\n\\nTRAINING_FILENAMES_model2 = TRAINING_FILENAMES_model2 + tf.io.gfile.glob(GCS_PATH + '*.tfrec')\\n\""
      ]
     },
     "execution_count": 7,
     "metadata": {},
     "output_type": "execute_result"
    }
   ],
   "source": [
    "GCS_DS_PATH =KaggleDatasets().get_gcs_path('tf-flower-photo-tfrec')\n",
    "\n",
    "\n",
    "GCS_PATH_SELECT = { # available image sizes\n",
    "    \n",
    "    192: GCS_DS_PATH +'/oxford_102/tfrecords-jpeg-192x192/',\n",
    "    224: GCS_DS_PATH + '/oxford_102/tfrecords-jpeg-224x224/',\n",
    "    331: GCS_DS_PATH + '/oxford_102/tfrecords-jpeg-331x331/',\n",
    "      \n",
    "}\n",
    "\n",
    "GCS_PATH = GCS_PATH_SELECT[IMAGE_SIZE[0]]\n",
    "\n",
    "TRAINING_FILENAMES_model2 = TRAINING_FILENAMES_model2 + tf.io.gfile.glob(GCS_PATH + '*.tfrec')\n",
    "\n",
    "\n",
    "\n",
    "GCS_PATH_SELECT = { # available image sizes\n",
    "\n",
    "    192: GCS_DS_PATH +'/tf_flowers/tfrecords-jpeg-192x192/',\n",
    "    224: GCS_DS_PATH + '/tf_flowers/tfrecords-jpeg-224x224/',\n",
    "    331: GCS_DS_PATH + '/tf_flowers/tfrecords-jpeg-331x331/',\n",
    "    #512: GCS_DS_PATH + '/tf_flowers/tfrecords-jpeg-512x512/',\n",
    "    \n",
    "}\n",
    "\n",
    "\n",
    "GCS_PATH = GCS_PATH_SELECT[IMAGE_SIZE[0]]\n",
    "\n",
    "TRAINING_FILENAMES_model2 = TRAINING_FILENAMES_model2 + tf.io.gfile.glob(GCS_PATH + '*.tfrec')\n",
    "\n",
    "\n",
    "GCS_PATH_SELECT = { # available image sizes\n",
    "    \n",
    "    192: GCS_DS_PATH +'/inaturalist/tfrecords-jpeg-192x192/',\n",
    "    224: GCS_DS_PATH + '/inaturalist/tfrecords-jpeg-224x224/',\n",
    "    331: GCS_DS_PATH + '/inaturalist/tfrecords-jpeg-331x331/'\n",
    "}\n",
    "\n",
    "\n",
    "GCS_PATH = GCS_PATH_SELECT[IMAGE_SIZE[0]]\n",
    "\n",
    "TRAINING_FILENAMES_model2 = TRAINING_FILENAMES_model2 + tf.io.gfile.glob(GCS_PATH + '*.tfrec')\n",
    "\n",
    "\n",
    "\n",
    "GCS_PATH_SELECT = { # available image sizes\n",
    "    \n",
    "    192: GCS_DS_PATH +'/inaturalist_1/tfrecords-jpeg-192x192/',\n",
    "    224: GCS_DS_PATH + '/inaturalist_1/tfrecords-jpeg-224x224/',\n",
    "    331: GCS_DS_PATH + '/inaturalist_1/tfrecords-jpeg-331x331/',\n",
    "    #512: GCS_DS_PATH + '/inaturalist/tfrecords-jpeg-512x512/',\n",
    "    \n",
    "}\n",
    "\n",
    "\n",
    "GCS_PATH = GCS_PATH_SELECT[IMAGE_SIZE[0]]\n",
    "\n",
    "TRAINING_FILENAMES_model2 = TRAINING_FILENAMES_model2 + tf.io.gfile.glob(GCS_PATH + '*.tfrec')\n",
    "'''\n",
    "\n",
    "GCS_PATH_SELECT = { # available image sizes\n",
    "    \n",
    "    192: GCS_DS_PATH +'/openimage/tfrecords-jpeg-192x192/',\n",
    "    224: GCS_DS_PATH + '/openimage/tfrecords-jpeg-224x224/',\n",
    "    331: GCS_DS_PATH + '/openimage/tfrecords-jpeg-331x331/',\n",
    "    #512: GCS_DS_PATH + '/inaturalist/tfrecords-jpeg-512x512/',\n",
    "    \n",
    "}\n",
    "\n",
    "GCS_PATH = GCS_PATH_SELECT[IMAGE_SIZE[0]]\n",
    "\n",
    "TRAINING_FILENAMES_model2 = TRAINING_FILENAMES_model2 + tf.io.gfile.glob(GCS_PATH + '*.tfrec')\n",
    "'''"
   ]
  },
  {
   "cell_type": "code",
   "execution_count": 8,
   "metadata": {},
   "outputs": [],
   "source": [
    "GCS_DS_PATH =KaggleDatasets().get_gcs_path('tf-flower-photo-tfrec')\n",
    "\n",
    "\n",
    "GCS_PATH_SELECT = { # available image sizes\n",
    "    \n",
    "    192: GCS_DS_PATH +'/oxford_102/tfrecords-jpeg-192x192/',\n",
    "    224: GCS_DS_PATH + '/oxford_102/tfrecords-jpeg-224x224/',\n",
    "    331: GCS_DS_PATH + '/oxford_102/tfrecords-jpeg-331x331/',\n",
    "    #512: GCS_DS_PATH + '/inaturalist/tfrecords-jpeg-512x512/',   \n",
    "}\n",
    "\n",
    "\n",
    "\n",
    "GCS_PATH = GCS_PATH_SELECT[IMAGE_SIZE[0]]\n",
    "\n",
    "TRAINING_FILENAMES = TRAINING_FILENAMES + tf.io.gfile.glob(GCS_PATH + '*.tfrec')\n",
    "\n",
    "\n",
    "GCS_PATH_SELECT = { # available image sizes\n",
    "    \n",
    "    192: GCS_DS_PATH +'/inaturalist/tfrecords-jpeg-192x192/',\n",
    "    224: GCS_DS_PATH + '/inaturalist/tfrecords-jpeg-224x224/',\n",
    "    331: GCS_DS_PATH + '/inaturalist/tfrecords-jpeg-331x331/',\n",
    "    #512: GCS_DS_PATH + '/inaturalist/tfrecords-jpeg-512x512/',\n",
    "    \n",
    "}\n",
    "\n",
    "GCS_PATH = GCS_PATH_SELECT[IMAGE_SIZE[0]]\n",
    "\n",
    "TRAINING_FILENAMES = TRAINING_FILENAMES + tf.io.gfile.glob(GCS_PATH + '*.tfrec')\n",
    "\n",
    "\n",
    "\n",
    "\n",
    "GCS_PATH_SELECT = { # available image sizes\n",
    "    \n",
    "    192: GCS_DS_PATH +'/inaturalist_1/tfrecords-jpeg-192x192/',\n",
    "    224: GCS_DS_PATH + '/inaturalist_1/tfrecords-jpeg-224x224/',\n",
    "    331: GCS_DS_PATH + '/inaturalist_1/tfrecords-jpeg-331x331/',\n",
    "    \n",
    "}\n",
    "\n",
    "\n",
    "GCS_PATH = GCS_PATH_SELECT[IMAGE_SIZE[0]]\n",
    "\n",
    "TRAINING_FILENAMES = TRAINING_FILENAMES + tf.io.gfile.glob(GCS_PATH + '*.tfrec')\n",
    "\n",
    "GCS_PATH_SELECT = { # available image sizes\n",
    "    \n",
    "    331: GCS_DS_PATH + '/imagenet/tfrecords-jpeg-331x331/'\n",
    "\n",
    "}\n",
    "\n",
    "\n",
    "GCS_PATH = GCS_PATH_SELECT[IMAGE_SIZE[0]]\n",
    "\n",
    "TRAINING_FILENAMES = TRAINING_FILENAMES + tf.io.gfile.glob(GCS_PATH + '*.tfrec')\n",
    "# VALIDATION_FILENAMES = tf.io.gfile.glob(GCS_PATH + '/val/*.tfrec')\n",
    "# TEST_FILENAMES = tf.io.gfile.glob(GCS_PATH + '/test/*.tfrec')\n",
    "\n",
    "GCS_PATH_SELECT = { # available image sizes\n",
    "    \n",
    "    192: GCS_DS_PATH +'/tf_flowers/tfrecords-jpeg-192x192/',\n",
    "    224: GCS_DS_PATH + '/tf_flowers/tfrecords-jpeg-224x224/',\n",
    "    331: GCS_DS_PATH + '/tf_flowers/tfrecords-jpeg-331x331/',\n",
    "    512: GCS_DS_PATH + '/tf_flowers/tfrecords-jpeg-512x512/',\n",
    "}\n",
    "\n",
    "\n",
    "GCS_PATH = GCS_PATH_SELECT[IMAGE_SIZE[0]]\n",
    "\n",
    "TRAINING_FILENAMES = TRAINING_FILENAMES + tf.io.gfile.glob(GCS_PATH + '*.tfrec')"
   ]
  },
  {
   "cell_type": "markdown",
   "metadata": {},
   "source": [
    "# 是否加入验证集"
   ]
  },
  {
   "cell_type": "code",
   "execution_count": 9,
   "metadata": {},
   "outputs": [],
   "source": [
    "SKIP_VALIDATION = True#True#True #False True\n",
    "if SKIP_VALIDATION:\n",
    "    TRAINING_FILENAMES = TRAINING_FILENAMES + VALIDATION_FILENAMES\n",
    "    TRAINING_FILENAMES_model2 = TRAINING_FILENAMES_model2 + VALIDATION_FILENAMES"
   ]
  },
  {
   "cell_type": "code",
   "execution_count": 10,
   "metadata": {},
   "outputs": [],
   "source": [
    "CLASSES = ['pink primrose',    'hard-leaved pocket orchid', 'canterbury bells', 'sweet pea',     'wild geranium',     'tiger lily',           'moon orchid',              'bird of paradise', 'monkshood',        'globe thistle',         # 00 - 09\n",
    "           'snapdragon',       \"colt's foot\",               'king protea',      'spear thistle', 'yellow iris',       'globe-flower',         'purple coneflower',        'peruvian lily',    'balloon flower',   'giant white arum lily', # 10 - 19\n",
    "           'fire lily',        'pincushion flower',         'fritillary',       'red ginger',    'grape hyacinth',    'corn poppy',           'prince of wales feathers', 'stemless gentian', 'artichoke',        'sweet william',         # 20 - 29\n",
    "           'carnation',        'garden phlox',              'love in the mist', 'cosmos',        'alpine sea holly',  'ruby-lipped cattleya', 'cape flower',              'great masterwort', 'siam tulip',       'lenten rose',           # 30 - 39\n",
    "           'barberton daisy',  'daffodil',                  'sword lily',       'poinsettia',    'bolero deep blue',  'wallflower',           'marigold',                 'buttercup',        'daisy',            'common dandelion',      # 40 - 49\n",
    "           'petunia',          'wild pansy',                'primula',          'sunflower',     'lilac hibiscus',    'bishop of llandaff',   'gaura',                    'geranium',         'orange dahlia',    'pink-yellow dahlia',    # 50 - 59\n",
    "           'cautleya spicata', 'japanese anemone',          'black-eyed susan', 'silverbush',    'californian poppy', 'osteospermum',         'spring crocus',            'iris',             'windflower',       'tree poppy',            # 60 - 69\n",
    "           'gazania',          'azalea',                    'water lily',       'rose',          'thorn apple',       'morning glory',        'passion flower',           'lotus',            'toad lily',        'anthurium',             # 70 - 79\n",
    "           'frangipani',       'clematis',                  'hibiscus',         'columbine',     'desert-rose',       'tree mallow',          'magnolia',                 'cyclamen ',        'watercress',       'canna lily',            # 80 - 89\n",
    "           'hippeastrum ',     'bee balm',                  'pink quill',       'foxglove',      'bougainvillea',     'camellia',             'mallow',                   'mexican petunia',  'bromelia',         'blanket flower',        # 90 - 99\n",
    "           'trumpet creeper',  'blackberry lily',           'common tulip',     'wild rose']                                                                                                                                               # 100 - 102"
   ]
  },
  {
   "cell_type": "code",
   "execution_count": 11,
   "metadata": {},
   "outputs": [],
   "source": [
    "exec_history = measure_time(exec_history, \"Import libraries, initilialize TPU and config\")"
   ]
  },
  {
   "cell_type": "markdown",
   "metadata": {},
   "source": [
    "# Dataset functions"
   ]
  },
  {
   "cell_type": "code",
   "execution_count": 12,
   "metadata": {},
   "outputs": [],
   "source": [
    "def decode_image(image_data):\n",
    "    image = tf.image.decode_jpeg(image_data, channels=3)\n",
    "    image = tf.cast(image, tf.float32) / 255.0  # convert image to floats in [0, 1] range\n",
    "    image = tf.reshape(image, [*IMAGE_SIZE, 3]) # explicit size needed for TPU\n",
    "    return image\n",
    "\n",
    "def read_labeled_tfrecord(example):\n",
    "    LABELED_TFREC_FORMAT = {\n",
    "        \"image\": tf.io.FixedLenFeature([], tf.string), # tf.string means bytestring\n",
    "        \"class\": tf.io.FixedLenFeature([], tf.int64),  # shape [] means single element\n",
    "    }\n",
    "    example = tf.io.parse_single_example(example, LABELED_TFREC_FORMAT)\n",
    "    image = decode_image(example['image'])\n",
    "    label = tf.cast(example['class'], tf.int32)\n",
    "    return image, label # returns a dataset of (image, label) pairs\n",
    "\n",
    "def read_unlabeled_tfrecord(example):\n",
    "    UNLABELED_TFREC_FORMAT = {\n",
    "        \"image\": tf.io.FixedLenFeature([], tf.string), # tf.string means bytestring\n",
    "        \"id\": tf.io.FixedLenFeature([], tf.string),  # shape [] means single element\n",
    "        # class is missing, this competitions's challenge is to predict flower classes for the test dataset\n",
    "    }\n",
    "    example = tf.io.parse_single_example(example, UNLABELED_TFREC_FORMAT)\n",
    "    image = decode_image(example['image'])\n",
    "    idnum = example['id']\n",
    "    return image, idnum # returns a dataset of image(s)\n",
    "\n",
    "def load_dataset(filenames, labeled = True, ordered = False):\n",
    "    # Read from TFRecords. For optimal performance, reading from multiple files at once and\n",
    "    # Diregarding data order. Order does not matter since we will be shuffling the data anyway\n",
    "    \n",
    "    ignore_order = tf.data.Options()\n",
    "    if not ordered:\n",
    "        ignore_order.experimental_deterministic = False # disable order, increase speed\n",
    "        \n",
    "    dataset = tf.data.TFRecordDataset(filenames, num_parallel_reads = AUTO) # automatically interleaves reads from multiple files\n",
    "    dataset = dataset.with_options(ignore_order) # use data as soon as it streams in, rather than in its original order\n",
    "    dataset = dataset.map(read_labeled_tfrecord if labeled else read_unlabeled_tfrecord, num_parallel_calls = AUTO) # returns a dataset of (image, label) pairs if labeled = True or (image, id) pair if labeld = False\n",
    "    return dataset\n",
    "\n",
    "\n",
    "\n",
    "def data_augment(image, label):  # 训练样本在预读过程中进行数据增强，这部分操作在CPU上\n",
    "    # data augmentation. Thanks to the dataset.prefetch(AUTO) statement in the next function (below),\n",
    "    # this happens essentially for free on TPU. Data pipeline code is executed on the \"CPU\" part\n",
    "    # of the TPU while the TPU itself is computing gradients.\n",
    "    image = tf.image.random_flip_left_right(image,seed=42)\n",
    "    #image = dataset.map(decoded_example)\n",
    "    #image = augmentation(image)\n",
    "    \n",
    "    #image = tf.image.random_saturation(image, 0.4, 2.4)\n",
    "    return image, label\n",
    "\n",
    "def data_augment_1(image, label):  # 训练样本在预读过程中进行数据增强，这部分操作在CPU上\n",
    "    # data augmentation. Thanks to the dataset.prefetch(AUTO) statement in the next function (below),\n",
    "    # this happens essentially for free on TPU. Data pipeline code is executed on the \"CPU\" part\n",
    "    # of the TPU while the TPU itself is computing gradients.\n",
    "    image = tf.image.random_flip_left_right(image,seed=42)\n",
    "    #image = dataset.map(decoded_example)\n",
    "    #image = augmentation(image)\n",
    "    \n",
    "    #image = tf.image.random_saturation(image, 0.4, 2.4)\n",
    "    return image, label\n",
    "\n",
    "\n",
    "\n",
    "def get_training_dataset():\n",
    "    dataset = load_dataset(TRAINING_FILENAMES, labeled=True)\n",
    "    dataset = dataset.map(data_augment_1, num_parallel_calls=AUTO)\n",
    "    #\n",
    "    #dataset = dataset.map(decoded_example)\n",
    "    #dataset = dataset.map(augmentation)\n",
    "    dataset = dataset.repeat() # the training dataset must repeat for several epochs\n",
    "    dataset = dataset.shuffle(2048)\n",
    "    dataset = dataset.batch(BATCH_SIZE)\n",
    "    dataset = dataset.prefetch(AUTO) # prefetch next batch while training (autotune prefetch buffer size)\n",
    "    return dataset\n",
    "\n",
    "def get_training_dataset_model2():\n",
    "    dataset = load_dataset(TRAINING_FILENAMES_model2, labeled=True)\n",
    "    dataset = dataset.map(data_augment, num_parallel_calls=AUTO)\n",
    "    #\n",
    "    #dataset = dataset.map(decoded_example)\n",
    "    #dataset = dataset.map(augmentation)\n",
    "    dataset = dataset.repeat() # the training dataset must repeat for several epochs\n",
    "    dataset = dataset.shuffle(2048)\n",
    "    dataset = dataset.batch(BATCH_SIZE)\n",
    "    dataset = dataset.prefetch(AUTO) # prefetch next batch while training (autotune prefetch buffer size)\n",
    "    return dataset\n",
    "\n",
    "def get_validation_dataset(ordered=False):\n",
    "    dataset = load_dataset(VALIDATION_FILENAMES, labeled=True, ordered=ordered)\n",
    "    dataset = dataset.batch(BATCH_SIZE) # slighly faster with fixed tensor sizes\n",
    "    dataset = dataset.cache()\n",
    "    dataset = dataset.prefetch(AUTO) # prefetch next batch while training (autotune prefetch buffer size)\n",
    "    return dataset\n",
    "\n",
    "def get_test_dataset(ordered=False):\n",
    "    dataset = load_dataset(TEST_FILENAMES, labeled=False, ordered=ordered)\n",
    "    dataset = dataset.batch(BATCH_SIZE)\n",
    "    dataset = dataset.prefetch(AUTO) # prefetch next batch while training (autotune prefetch buffer size)\n",
    "    return dataset\n",
    "\n",
    "def count_data_items(filenames):\n",
    "    # the number of data items is written in the name of the .tfrec files, i.e. flowers00-230.tfrec = 230 data items\n",
    "    n = [int(re.compile(r\"-([0-9]*)\\.\").search(filename).group(1)) for filename in filenames]\n",
    "    return np.sum(n)\n"
   ]
  },
  {
   "cell_type": "markdown",
   "metadata": {},
   "source": [
    "# Data visualization"
   ]
  },
  {
   "cell_type": "code",
   "execution_count": 13,
   "metadata": {},
   "outputs": [],
   "source": [
    "# numpy and matplotlib defaults\n",
    "np.set_printoptions(threshold=15, linewidth=80)\n",
    "\n",
    "def batch_to_numpy_images_and_labels(data):\n",
    "    images, labels = data \n",
    "    numpy_images = images.numpy()\n",
    "    numpy_labels = labels.numpy()\n",
    "    if numpy_labels.dtype == object: # binary string in this case, these are image ID strings\n",
    "        numpy_labels = [None for _ in enumerate(numpy_images)]\n",
    "    # If no labels, only image IDs, return None for labels (this is the case for test data)\n",
    "    return numpy_images, numpy_labels\n",
    "\n",
    "def title_from_label_and_target(label, correct_label):\n",
    "    if correct_label is None:\n",
    "        return CLASSES[label], True\n",
    "    correct = (label == correct_label)\n",
    "    return \"{} [{}{}{}]\".format(CLASSES[label], 'OK' if correct else 'NO', u\"\\u2192\" if not correct else '',\n",
    "                                CLASSES[correct_label] if not correct else ''), correct\n",
    "\n",
    "def display_one_flower(image, title, subplot, red=False, titlesize=16):\n",
    "    plt.subplot(*subplot)\n",
    "    plt.axis('off')\n",
    "    plt.imshow(image)\n",
    "    if len(title) > 0:\n",
    "        plt.title(title, fontsize=int(titlesize) if not red else int(titlesize/1.2), color='red' if red else 'black', fontdict={'verticalalignment':'center'}, pad=int(titlesize/1.5))\n",
    "    return (subplot[0], subplot[1], subplot[2]+1)\n",
    "    \n",
    "def display_batch_of_images(databatch, predictions=None, figsize  = 13.0):\n",
    "    \"\"\"This will work with:\n",
    "    display_batch_of_images(images)\n",
    "    display_batch_of_images(images, predictions)\n",
    "    display_batch_of_images((images, labels))\n",
    "    display_batch_of_images((images, labels), predictions)\n",
    "    \"\"\"\n",
    "    # data\n",
    "    images, labels = batch_to_numpy_images_and_labels(databatch)\n",
    "    if labels is None:\n",
    "        labels = [None for _ in enumerate(images)]\n",
    "        \n",
    "    # auto-squaring: this will drop data that does not fit into square or square-ish rectangle\n",
    "    rows = int(math.sqrt(len(images)))\n",
    "    cols = len(images)//rows\n",
    "        \n",
    "    # size and spacing\n",
    "    FIGSIZE =  figsize\n",
    "    SPACING = 0.1\n",
    "    subplot=(rows,cols,1)\n",
    "    if rows < cols:\n",
    "        plt.figure(figsize=(FIGSIZE,FIGSIZE/cols*rows))\n",
    "    else:\n",
    "        plt.figure(figsize=(FIGSIZE/rows*cols,FIGSIZE))\n",
    "    \n",
    "    # display\n",
    "    for i, (image, label) in enumerate(zip(images[:rows*cols], labels[:rows*cols])):\n",
    "        title = '' if label is None else CLASSES[label]\n",
    "        correct = True\n",
    "        if predictions is not None:\n",
    "            title, correct = title_from_label_and_target(predictions[i], label)\n",
    "        dynamic_titlesize = FIGSIZE*SPACING/max(rows,cols)*40+3 # magic formula tested to work from 1x1 to 10x10 images\n",
    "        subplot = display_one_flower(image, title, subplot, not correct, titlesize=dynamic_titlesize)\n",
    "    \n",
    "    #layout\n",
    "    plt.tight_layout()\n",
    "    if label is None and predictions is None:\n",
    "        plt.subplots_adjust(wspace=0, hspace=0)\n",
    "    else:\n",
    "        plt.subplots_adjust(wspace=SPACING, hspace=SPACING)\n",
    "    plt.show()\n",
    "\n",
    "def display_confusion_matrix(cmat, score, precision, recall):\n",
    "    plt.figure(figsize=(15,15))\n",
    "    ax = plt.gca()\n",
    "    ax.matshow(cmat, cmap='Reds')\n",
    "    ax.set_xticks(range(len(CLASSES)))\n",
    "    ax.set_xticklabels(CLASSES, fontdict={'fontsize': 7})\n",
    "    plt.setp(ax.get_xticklabels(), rotation=45, ha=\"left\", rotation_mode=\"anchor\")\n",
    "    ax.set_yticks(range(len(CLASSES)))\n",
    "    ax.set_yticklabels(CLASSES, fontdict={'fontsize': 7})\n",
    "    plt.setp(ax.get_yticklabels(), rotation=45, ha=\"right\", rotation_mode=\"anchor\")\n",
    "    titlestring = \"\"\n",
    "    if score is not None:\n",
    "        titlestring += 'f1 = {:.3f} '.format(score)\n",
    "    if precision is not None:\n",
    "        titlestring += '\\nprecision = {:.3f} '.format(precision)\n",
    "    if recall is not None:\n",
    "        titlestring += '\\nrecall = {:.3f} '.format(recall)\n",
    "    if len(titlestring) > 0:\n",
    "        ax.text(101, 1, titlestring, fontdict={'fontsize': 18, 'horizontalalignment':'right', 'verticalalignment':'top', 'color':'#804040'})\n",
    "    plt.show()\n",
    "    \n",
    "def display_training_curves(training, validation, title, subplot):\n",
    "    if subplot%10==1: # set up the subplots on the first call\n",
    "        plt.subplots(figsize=(10,10), facecolor='#F0F0F0')\n",
    "        plt.tight_layout()\n",
    "    ax = plt.subplot(subplot)\n",
    "    ax.set_facecolor('#F8F8F8')\n",
    "    ax.plot(training)\n",
    "    ax.plot(validation)\n",
    "    ax.set_title('model '+ title)\n",
    "    ax.set_ylabel(title)\n",
    "    #ax.set_ylim(0.28,1.05)\n",
    "    ax.set_xlabel('epoch')\n",
    "    ax.legend(['train', 'valid.'])"
   ]
  },
  {
   "cell_type": "markdown",
   "metadata": {},
   "source": [
    "# Data augmentation"
   ]
  },
  {
   "cell_type": "markdown",
   "metadata": {},
   "source": [
    "## Transformations"
   ]
  },
  {
   "cell_type": "code",
   "execution_count": 14,
   "metadata": {},
   "outputs": [],
   "source": [
    "#一种数据增强方式\n",
    "AugParams = {\n",
    "    'd1' : 90,\n",
    "    'd2': 160,\n",
    "    'rotate' : 280,\n",
    "    'ratio' : 0.45\n",
    "    }\n",
    "\n",
    "\n",
    "def transform(image, inv_mat, image_shape):\n",
    "\n",
    "      h, w, c = image_shape\n",
    "      cx, cy = w//2, h//2\n",
    "\n",
    "      new_xs = tf.repeat( tf.range(-cx, cx, 1), h)\n",
    "      new_ys = tf.tile( tf.range(-cy, cy, 1), [w])\n",
    "      new_zs = tf.ones([h*w], dtype=tf.int32)\n",
    "\n",
    "      old_coords = tf.matmul(inv_mat, tf.cast(tf.stack([new_xs, new_ys, new_zs]), tf.float32))\n",
    "      old_coords_x, old_coords_y = tf.round(old_coords[0, :] + w//2), tf.round(old_coords[1, :] + h//2)\n",
    "\n",
    "      clip_mask_x = tf.logical_or(old_coords_x<0, old_coords_x>w-1)\n",
    "      clip_mask_y = tf.logical_or(old_coords_y<0, old_coords_y>h-1)\n",
    "      clip_mask = tf.logical_or(clip_mask_x, clip_mask_y)\n",
    "\n",
    "      old_coords_x = tf.boolean_mask(old_coords_x, tf.logical_not(clip_mask))\n",
    "      old_coords_y = tf.boolean_mask(old_coords_y, tf.logical_not(clip_mask))\n",
    "      new_coords_x = tf.boolean_mask(new_xs+cx, tf.logical_not(clip_mask))\n",
    "      new_coords_y = tf.boolean_mask(new_ys+cy, tf.logical_not(clip_mask))\n",
    "\n",
    "      old_coords = tf.cast(tf.stack([old_coords_y, old_coords_x]), tf.int32)\n",
    "      new_coords = tf.cast(tf.stack([new_coords_y, new_coords_x]), tf.int64)\n",
    "      rotated_image_values = tf.gather_nd(image, tf.transpose(old_coords))\n",
    "      rotated_image_channel = list()\n",
    "      for i in range(c):\n",
    "          vals = rotated_image_values[:,i]\n",
    "          sparse_channel = tf.SparseTensor(tf.transpose(new_coords), vals, [h, w])\n",
    "          rotated_image_channel.append(tf.sparse.to_dense(sparse_channel, default_value=0, validate_indices=False))\n",
    "\n",
    "      return tf.transpose(tf.stack(rotated_image_channel), [1,2,0])\n",
    "\n",
    "def random_rotate(image, angle, image_shape):\n",
    "\n",
    "    def get_rotation_mat_inv(angle):\n",
    "          #transform to radian\n",
    "          angle = math.pi * angle / 180\n",
    "\n",
    "          cos_val = tf.math.cos(angle)\n",
    "          sin_val = tf.math.sin(angle)\n",
    "          one = tf.constant([1], tf.float32)\n",
    "          zero = tf.constant([0], tf.float32)\n",
    "\n",
    "          rot_mat_inv = tf.concat([cos_val, sin_val, zero,\n",
    "                                     -sin_val, cos_val, zero,\n",
    "                                     zero, zero, one], axis=0)\n",
    "          rot_mat_inv = tf.reshape(rot_mat_inv, [3,3])\n",
    "\n",
    "          return rot_mat_inv\n",
    "    angle = float(angle) * tf.random.normal([1],dtype='float32')\n",
    "    rot_mat_inv = get_rotation_mat_inv(angle)\n",
    "    return transform(image, rot_mat_inv, image_shape)\n",
    "\n",
    "\n",
    "def GridMask(image_height, image_width, d1, d2, rotate_angle=1, ratio=0.5):\n",
    "\n",
    "    h, w = image_height, image_width\n",
    "    hh = int(np.ceil(np.sqrt(h*h+w*w)))\n",
    "    hh = hh+1 if hh%2==1 else hh\n",
    "    d = tf.random.uniform(shape=[], minval=d1, maxval=d2, dtype=tf.int32)\n",
    "    l = tf.cast(tf.cast(d,tf.float32)*ratio+0.5, tf.int32)\n",
    "\n",
    "    st_h = tf.random.uniform(shape=[], minval=0, maxval=d, dtype=tf.int32)\n",
    "    st_w = tf.random.uniform(shape=[], minval=0, maxval=d, dtype=tf.int32)\n",
    "\n",
    "    y_ranges = tf.range(-1 * d + st_h, -1 * d + st_h + l)\n",
    "    x_ranges = tf.range(-1 * d + st_w, -1 * d + st_w + l)\n",
    "\n",
    "    for i in range(0, hh//d+1):\n",
    "        s1 = i * d + st_h\n",
    "        s2 = i * d + st_w\n",
    "        y_ranges = tf.concat([y_ranges, tf.range(s1,s1+l)], axis=0)\n",
    "        x_ranges = tf.concat([x_ranges, tf.range(s2,s2+l)], axis=0)\n",
    "\n",
    "    x_clip_mask = tf.logical_or(x_ranges <0 , x_ranges > hh-1)\n",
    "    y_clip_mask = tf.logical_or(y_ranges <0 , y_ranges > hh-1)\n",
    "    clip_mask = tf.logical_or(x_clip_mask, y_clip_mask)\n",
    "\n",
    "    x_ranges = tf.boolean_mask(x_ranges, tf.logical_not(clip_mask))\n",
    "    y_ranges = tf.boolean_mask(y_ranges, tf.logical_not(clip_mask))\n",
    "\n",
    "    hh_ranges = tf.tile(tf.range(0,hh), [tf.cast(tf.reduce_sum(tf.ones_like(x_ranges)), tf.int32)])\n",
    "    x_ranges = tf.repeat(x_ranges, hh)\n",
    "    y_ranges = tf.repeat(y_ranges, hh)\n",
    "\n",
    "    y_hh_indices = tf.transpose(tf.stack([y_ranges, hh_ranges]))\n",
    "    x_hh_indices = tf.transpose(tf.stack([hh_ranges, x_ranges]))\n",
    "\n",
    "    y_mask_sparse = tf.SparseTensor(tf.cast(y_hh_indices, tf.int64),  tf.zeros_like(y_ranges), [hh, hh])\n",
    "    y_mask = tf.sparse.to_dense(y_mask_sparse, 1, False)\n",
    "\n",
    "    x_mask_sparse = tf.SparseTensor(tf.cast(x_hh_indices, tf.int64), tf.zeros_like(x_ranges), [hh, hh])\n",
    "    x_mask = tf.sparse.to_dense(x_mask_sparse, 1, False)\n",
    "\n",
    "    mask = tf.expand_dims( tf.clip_by_value(x_mask + y_mask, 0, 1), axis=-1)\n",
    "\n",
    "    mask = random_rotate(mask, rotate_angle, [hh, hh, 1])\n",
    "    mask = tf.image.crop_to_bounding_box(mask, (hh-h)//2, (hh-w)//2, image_height, image_width)\n",
    "\n",
    "    return mask\n",
    "\n",
    "def apply_grid_mask(image, image_shape):\n",
    "    mask = GridMask(image_shape[0],\n",
    "                    image_shape[1],\n",
    "                    AugParams['d1'],\n",
    "                    AugParams['d2'],\n",
    "                    AugParams['rotate'],\n",
    "                    AugParams['ratio'])\n",
    "    \n",
    "    if image_shape[-1] == 3:\n",
    "        mask = tf.concat([mask, mask, mask], axis=-1)\n",
    "    return image * tf.cast(mask, tf.float32)\n",
    "\n",
    "    \n",
    "def augmentation(image):    \n",
    "    if tf.random.uniform(shape=[], minval=0.0, maxval=1.0) >=0.5:\n",
    "        image = apply_grid_mask(image, (*IMAGE_SIZE,3))        \n",
    "    return image#tf.cast(image, tf.uint8) #image, label "
   ]
  },
  {
   "cell_type": "code",
   "execution_count": 15,
   "metadata": {},
   "outputs": [],
   "source": [
    "exec_history = measure_time(exec_history, \"Initialize dataset, visualization and augmentation functions\")"
   ]
  },
  {
   "cell_type": "markdown",
   "metadata": {},
   "source": [
    "## Visualize augmentation"
   ]
  },
  {
   "cell_type": "code",
   "execution_count": 16,
   "metadata": {},
   "outputs": [],
   "source": [
    "show_me = False\n",
    "if show_me:\n",
    "    dataset = get_training_dataset()\n",
    "    training_dataset = dataset.unbatch().batch(20)\n",
    "    train_batch = iter(training_dataset)\n",
    "    display_batch_of_images(next(train_batch))\n"
   ]
  },
  {
   "cell_type": "markdown",
   "metadata": {},
   "source": [
    "# Custom LR scheduler"
   ]
  },
  {
   "cell_type": "code",
   "execution_count": 17,
   "metadata": {},
   "outputs": [
    {
     "name": "stdout",
     "output_type": "stream",
     "text": [
      "Learning rate schedule: 8e-05 to 0.00036 to 1.05e-05\n"
     ]
    },
    {
     "data": {
      "image/png": "[encoded data removed]",
      "text/plain": [
       "<Figure size 432x288 with 1 Axes>"
      ]
     },
     "metadata": {
      "needs_background": "light"
     },
     "output_type": "display_data"
    }
   ],
   "source": [
    "# Learning rate schedule for TPU, GPU and CPU.\n",
    "# Using an LR ramp up because fine-tuning a pre-trained model.\n",
    "# Starting with a high LR would break the pre-trained weights.\n",
    "def lrfn(epoch):\n",
    "    \n",
    "    LR_START = 0.00008\n",
    "#LR_START = 0.00001\n",
    "    LR_MAX = 0.000045 * strategy.num_replicas_in_sync\n",
    "    LR_MIN = 0.000008\n",
    "    LR_RAMPUP_EPOCHS = 3\n",
    "    LR_SUSTAIN_EPOCHS = 2\n",
    "    LR_EXP_DECAY = .77\n",
    "    if epoch < LR_RAMPUP_EPOCHS:\n",
    "        lr = (LR_MAX - LR_START) / LR_RAMPUP_EPOCHS * epoch + LR_START\n",
    "    elif epoch < LR_RAMPUP_EPOCHS + LR_SUSTAIN_EPOCHS:\n",
    "        lr = LR_MAX\n",
    "    else:\n",
    "        lr = (LR_MAX - LR_MIN) * LR_EXP_DECAY**(epoch - LR_RAMPUP_EPOCHS - LR_SUSTAIN_EPOCHS) + LR_MIN\n",
    "    return lr\n",
    "    \n",
    "lr_callback = tf.keras.callbacks.LearningRateScheduler(lrfn, verbose = True)\n",
    "\n",
    "rng = [i for i in range(EPOCHS)]\n",
    "y = [lrfn(x) for x in rng]\n",
    "plt.plot(rng, y)\n",
    "print(\"Learning rate schedule: {:.3g} to {:.3g} to {:.3g}\".format(y[0], max(y), y[-1]))"
   ]
  },
  {
   "cell_type": "code",
   "execution_count": 18,
   "metadata": {},
   "outputs": [
    {
     "name": "stdout",
     "output_type": "stream",
     "text": [
      "Learning rate schedule: 8e-05 to 0.0004 to 1.01e-05\n"
     ]
    },
    {
     "data": {
      "image/png": "[encoded data removed]",
      "text/plain": [
       "<Figure size 432x288 with 1 Axes>"
      ]
     },
     "metadata": {
      "needs_background": "light"
     },
     "output_type": "display_data"
    }
   ],
   "source": [
    "def esfn(epoch):\n",
    "    LR_START = 0.00008\n",
    "    LR_MAX = 0.00005 * strategy.num_replicas_in_sync\n",
    "    LR_MIN = 0.000008\n",
    "    LR_RAMPUP_EPOCHS = 4\n",
    "    LR_SUSTAIN_EPOCHS = 0\n",
    "    LR_EXP_DECAY = .77\n",
    "    if epoch < LR_RAMPUP_EPOCHS:\n",
    "        lr = (LR_MAX - LR_START) / LR_RAMPUP_EPOCHS * epoch + LR_START\n",
    "    elif epoch < LR_RAMPUP_EPOCHS + LR_SUSTAIN_EPOCHS:\n",
    "        lr = LR_MAX\n",
    "    else:\n",
    "        lr = (LR_MAX - LR_MIN) * LR_EXP_DECAY**(epoch - LR_RAMPUP_EPOCHS - LR_SUSTAIN_EPOCHS) + LR_MIN\n",
    "    return lr\n",
    "    \n",
    "es_callback = tf.keras.callbacks.LearningRateScheduler(esfn, verbose = True)\n",
    "\n",
    "rng = [i for i in range(EPOCHS)]\n",
    "y = [esfn(x) for x in rng]\n",
    "plt.plot(rng, y)\n",
    "print(\"Learning rate schedule: {:.3g} to {:.3g} to {:.3g}\".format(y[0], max(y), y[-1]))"
   ]
  },
  {
   "cell_type": "markdown",
   "metadata": {},
   "source": [
    "# Training model"
   ]
  },
  {
   "cell_type": "code",
   "execution_count": 19,
   "metadata": {},
   "outputs": [
    {
     "name": "stdout",
     "output_type": "stream",
     "text": [
      "Dataset: 64104 training_1 images, 34477 training_2 images, 3712 validation images, 7382 unlabeled test images\n"
     ]
    }
   ],
   "source": [
    "NUM_TRAINING_IMAGES = count_data_items(TRAINING_FILENAMES)\n",
    "NUM_TRAINING_IMAGES_model2 = count_data_items(TRAINING_FILENAMES_model2)\n",
    "\n",
    "NUM_VALIDATION_IMAGES = count_data_items(VALIDATION_FILENAMES)\n",
    "NUM_TEST_IMAGES = count_data_items(TEST_FILENAMES)\n",
    "\n",
    "STEPS_PER_EPOCH = NUM_TRAINING_IMAGES // BATCH_SIZE\n",
    "STEPS_PER_EPOCH_model2 = NUM_TRAINING_IMAGES_model2 // BATCH_SIZE\n",
    "\n",
    "print('Dataset: {} training_1 images, {} training_2 images, {} validation images, {} unlabeled test images'.format(NUM_TRAINING_IMAGES, NUM_TRAINING_IMAGES_model2,NUM_VALIDATION_IMAGES, NUM_TEST_IMAGES))"
   ]
  },
  {
   "cell_type": "code",
   "execution_count": 20,
   "metadata": {},
   "outputs": [],
   "source": [
    "exec_history = measure_time(exec_history, \"Begin downloading ENet B7\")"
   ]
  },
  {
   "cell_type": "markdown",
   "metadata": {},
   "source": [
    "### EfficientNet B7"
   ]
  },
  {
   "cell_type": "code",
   "execution_count": 21,
   "metadata": {},
   "outputs": [
    {
     "name": "stdout",
     "output_type": "stream",
     "text": [
      "Downloading data from https://github.com/qubvel/efficientnet/releases/download/v0.0.1/efficientnet-b7_noisy-student_notop.h5\n",
      "258072576/258068648 [==============================] - 17s 0us/step\n",
      "Model: \"sequential\"\n",
      "_________________________________________________________________\n",
      "Layer (type)                 Output Shape              Param #   \n",
      "=================================================================\n",
      "efficientnet-b7 (Model)      (None, 11, 11, 2560)      64097680  \n",
      "_________________________________________________________________\n",
      "global_average_pooling2d (Gl (None, 2560)              0         \n",
      "_________________________________________________________________\n",
      "dense (Dense)                (None, 104)               266344    \n",
      "=================================================================\n",
      "Total params: 64,364,024\n",
      "Trainable params: 64,053,304\n",
      "Non-trainable params: 310,720\n",
      "_________________________________________________________________\n"
     ]
    }
   ],
   "source": [
    "# efficient net\n",
    "with strategy.scope():\n",
    "    enet = efn.EfficientNetB7(\n",
    "        input_shape=(*IMAGE_SIZE, 3),\n",
    "        weights='noisy-student',\n",
    "        include_top=False\n",
    "    )\n",
    "    enet.trainable = True\n",
    "\n",
    "    model = tf.keras.Sequential([\n",
    "        enet,\n",
    "        tf.keras.layers.GlobalAveragePooling2D(),\n",
    "        tf.keras.layers.Dense(len(CLASSES), activation='softmax')\n",
    "    ])\n",
    "        \n",
    "model.compile(\n",
    "    optimizer = tf.keras.optimizers.Nadam(learning_rate=0.001, beta_1=0.9, beta_2=0.999, epsilon=1e-07, name='Nadam'),\n",
    "    loss = 'sparse_categorical_crossentropy',\n",
    "    metrics=['sparse_categorical_accuracy']\n",
    ")\n",
    "model.summary()\n"
   ]
  },
  {
   "cell_type": "code",
   "execution_count": 22,
   "metadata": {},
   "outputs": [],
   "source": [
    "exec_history = measure_time(exec_history, \"Finish downloading ENet B7, start training ENet B7\")"
   ]
  },
  {
   "cell_type": "code",
   "execution_count": 23,
   "metadata": {},
   "outputs": [
    {
     "name": "stdout",
     "output_type": "stream",
     "text": [
      "Train for 333 steps\n",
      "\n",
      "Epoch 00001: LearningRateScheduler reducing learning rate to 8e-05.\n",
      "Epoch 1/25\n",
      "333/333 [==============================] - 528s 2s/step - loss: 2.1833 - sparse_categorical_accuracy: 0.5008\n",
      "\n",
      "Epoch 00002: LearningRateScheduler reducing learning rate to 0.00017333333333333334.\n",
      "Epoch 2/25\n",
      "333/333 [==============================] - 210s 631ms/step - loss: 0.6731 - sparse_categorical_accuracy: 0.8295\n",
      "\n",
      "Epoch 00003: LearningRateScheduler reducing learning rate to 0.0002666666666666667.\n",
      "Epoch 3/25\n",
      "333/333 [==============================] - 210s 631ms/step - loss: 0.3837 - sparse_categorical_accuracy: 0.8989\n",
      "\n",
      "Epoch 00004: LearningRateScheduler reducing learning rate to 0.00036.\n",
      "Epoch 4/25\n",
      "333/333 [==============================] - 209s 626ms/step - loss: 0.2901 - sparse_categorical_accuracy: 0.9185\n",
      "\n",
      "Epoch 00005: LearningRateScheduler reducing learning rate to 0.00036.\n",
      "Epoch 5/25\n",
      "333/333 [==============================] - 210s 631ms/step - loss: 0.2196 - sparse_categorical_accuracy: 0.9383\n",
      "\n",
      "Epoch 00006: LearningRateScheduler reducing learning rate to 0.00036.\n",
      "Epoch 6/25\n",
      "333/333 [==============================] - 210s 631ms/step - loss: 0.1659 - sparse_categorical_accuracy: 0.9545\n",
      "\n",
      "Epoch 00007: LearningRateScheduler reducing learning rate to 0.00027904000000000004.\n",
      "Epoch 7/25\n",
      "333/333 [==============================] - 212s 636ms/step - loss: 0.1186 - sparse_categorical_accuracy: 0.9670\n",
      "\n",
      "Epoch 00008: LearningRateScheduler reducing learning rate to 0.00021670080000000004.\n",
      "Epoch 8/25\n",
      "333/333 [==============================] - 212s 636ms/step - loss: 0.0828 - sparse_categorical_accuracy: 0.9775\n",
      "\n",
      "Epoch 00009: LearningRateScheduler reducing learning rate to 0.00016869961600000002.\n",
      "Epoch 9/25\n",
      "333/333 [==============================] - 211s 635ms/step - loss: 0.0615 - sparse_categorical_accuracy: 0.9809\n",
      "\n",
      "Epoch 00010: LearningRateScheduler reducing learning rate to 0.00013173870432000003.\n",
      "Epoch 10/25\n",
      "333/333 [==============================] - 210s 631ms/step - loss: 0.0467 - sparse_categorical_accuracy: 0.9861\n",
      "\n",
      "Epoch 00011: LearningRateScheduler reducing learning rate to 0.00010327880232640002.\n",
      "Epoch 11/25\n",
      "333/333 [==============================] - 213s 639ms/step - loss: 0.0392 - sparse_categorical_accuracy: 0.9861\n",
      "\n",
      "Epoch 00012: LearningRateScheduler reducing learning rate to 8.136467779132802e-05.\n",
      "Epoch 12/25\n",
      "333/333 [==============================] - 212s 636ms/step - loss: 0.0312 - sparse_categorical_accuracy: 0.9902\n",
      "\n",
      "Epoch 00013: LearningRateScheduler reducing learning rate to 6.449080189932258e-05.\n",
      "Epoch 13/25\n",
      "333/333 [==============================] - 212s 636ms/step - loss: 0.0266 - sparse_categorical_accuracy: 0.9942\n",
      "\n",
      "Epoch 00014: LearningRateScheduler reducing learning rate to 5.1497917462478383e-05.\n",
      "Epoch 14/25\n",
      "333/333 [==============================] - 213s 638ms/step - loss: 0.0223 - sparse_categorical_accuracy: 0.9959\n",
      "\n",
      "Epoch 00015: LearningRateScheduler reducing learning rate to 4.1493396446108354e-05.\n",
      "Epoch 15/25\n",
      "333/333 [==============================] - 210s 631ms/step - loss: 0.0195 - sparse_categorical_accuracy: 0.9937\n",
      "\n",
      "Epoch 00016: LearningRateScheduler reducing learning rate to 3.378991526350344e-05.\n",
      "Epoch 16/25\n",
      "333/333 [==============================] - 212s 636ms/step - loss: 0.0175 - sparse_categorical_accuracy: 0.9962\n",
      "\n",
      "Epoch 00017: LearningRateScheduler reducing learning rate to 2.7858234752897646e-05.\n",
      "Epoch 17/25\n",
      "333/333 [==============================] - 212s 637ms/step - loss: 0.0167 - sparse_categorical_accuracy: 0.9949\n",
      "\n",
      "Epoch 00018: LearningRateScheduler reducing learning rate to 2.3290840759731186e-05.\n",
      "Epoch 18/25\n",
      "333/333 [==============================] - 210s 632ms/step - loss: 0.0145 - sparse_categorical_accuracy: 0.9957\n",
      "\n",
      "Epoch 00019: LearningRateScheduler reducing learning rate to 1.9773947384993014e-05.\n",
      "Epoch 19/25\n",
      "333/333 [==============================] - 209s 629ms/step - loss: 0.0152 - sparse_categorical_accuracy: 0.9945\n",
      "\n",
      "Epoch 00020: LearningRateScheduler reducing learning rate to 1.706593948644462e-05.\n",
      "Epoch 20/25\n",
      "333/333 [==============================] - 209s 628ms/step - loss: 0.0141 - sparse_categorical_accuracy: 0.9962\n",
      "\n",
      "Epoch 00021: LearningRateScheduler reducing learning rate to 1.4980773404562358e-05.\n",
      "Epoch 21/25\n",
      "333/333 [==============================] - 211s 634ms/step - loss: 0.0130 - sparse_categorical_accuracy: 0.9972\n",
      "\n",
      "Epoch 00022: LearningRateScheduler reducing learning rate to 1.3375195521513015e-05.\n",
      "Epoch 22/25\n",
      "333/333 [==============================] - 209s 628ms/step - loss: 0.0112 - sparse_categorical_accuracy: 0.9976\n",
      "\n",
      "Epoch 00023: LearningRateScheduler reducing learning rate to 1.2138900551565023e-05.\n",
      "Epoch 23/25\n",
      "333/333 [==============================] - 209s 628ms/step - loss: 0.0104 - sparse_categorical_accuracy: 0.9974\n",
      "\n",
      "Epoch 00024: LearningRateScheduler reducing learning rate to 1.1186953424705067e-05.\n",
      "Epoch 24/25\n",
      "333/333 [==============================] - 209s 629ms/step - loss: 0.0110 - sparse_categorical_accuracy: 0.9974\n",
      "\n",
      "Epoch 00025: LearningRateScheduler reducing learning rate to 1.0453954137022901e-05.\n",
      "Epoch 25/25\n",
      "333/333 [==============================] - 210s 630ms/step - loss: 0.0103 - sparse_categorical_accuracy: 0.9979\n"
     ]
    }
   ],
   "source": [
    "history = model.fit(\n",
    "    get_training_dataset(), \n",
    "    steps_per_epoch=STEPS_PER_EPOCH,\n",
    "    epochs=EPOCHS,\n",
    "    callbacks=[lr_callback],\n",
    "    validation_data=None if SKIP_VALIDATION else get_validation_dataset()\n",
    ")"
   ]
  },
  {
   "cell_type": "code",
   "execution_count": 24,
   "metadata": {},
   "outputs": [],
   "source": [
    "exec_history = measure_time(exec_history, \"Finish training ENet B7\")"
   ]
  },
  {
   "cell_type": "code",
   "execution_count": 25,
   "metadata": {},
   "outputs": [],
   "source": [
    "if not SKIP_VALIDATION:\n",
    "    display_training_curves(history.history['loss'], history.history['val_loss'], 'loss', 211)\n",
    "    display_training_curves(history.history['sparse_categorical_accuracy'], history.history['val_sparse_categorical_accuracy'], 'accuracy', 212)"
   ]
  },
  {
   "cell_type": "markdown",
   "metadata": {},
   "source": [
    "### DenseNet201"
   ]
  },
  {
   "cell_type": "code",
   "execution_count": 26,
   "metadata": {},
   "outputs": [],
   "source": [
    "exec_history = measure_time(exec_history, \"Begin downloading DenseNet 201\")"
   ]
  },
  {
   "cell_type": "code",
   "execution_count": 27,
   "metadata": {},
   "outputs": [
    {
     "name": "stdout",
     "output_type": "stream",
     "text": [
      "Downloading data from https://github.com/keras-team/keras-applications/releases/download/densenet/densenet201_weights_tf_dim_ordering_tf_kernels_notop.h5\n",
      "74842112/74836368 [==============================] - 1s 0us/step\n",
      "Model: \"sequential_1\"\n",
      "_________________________________________________________________\n",
      "Layer (type)                 Output Shape              Param #   \n",
      "=================================================================\n",
      "densenet201 (Model)          (None, 10, 10, 1920)      18321984  \n",
      "_________________________________________________________________\n",
      "global_average_pooling2d_1 ( (None, 1920)              0         \n",
      "_________________________________________________________________\n",
      "dense_1 (Dense)              (None, 104)               199784    \n",
      "=================================================================\n",
      "Total params: 18,521,768\n",
      "Trainable params: 18,292,712\n",
      "Non-trainable params: 229,056\n",
      "_________________________________________________________________\n"
     ]
    }
   ],
   "source": [
    "with strategy.scope():\n",
    "    dnet = DenseNet201(\n",
    "        input_shape=(*IMAGE_SIZE, 3),\n",
    "        weights='imagenet',\n",
    "        include_top=False\n",
    "    )\n",
    "    dnet.trainable = True\n",
    "\n",
    "    model2 = tf.keras.Sequential([\n",
    "        dnet,\n",
    "        tf.keras.layers.GlobalAveragePooling2D(),\n",
    "        tf.keras.layers.Dense(len(CLASSES), activation='softmax')\n",
    "    ])\n",
    "        \n",
    "model2.compile(\n",
    "    optimizer= tf.keras.optimizers.Nadam(learning_rate=0.001, beta_1=0.9, beta_2=0.999, epsilon=1e-07, name='Nadam'),\n",
    "    loss = 'sparse_categorical_crossentropy',\n",
    "    metrics=['sparse_categorical_accuracy']\n",
    ")\n",
    "model2.summary()\n",
    "    "
   ]
  },
  {
   "cell_type": "code",
   "execution_count": 28,
   "metadata": {},
   "outputs": [],
   "source": [
    "exec_history = measure_time(exec_history, \"Finish downloading DenseNet 201, start training DenseNet 201\")"
   ]
  },
  {
   "cell_type": "code",
   "execution_count": 29,
   "metadata": {},
   "outputs": [
    {
     "name": "stdout",
     "output_type": "stream",
     "text": [
      "Train for 179 steps\n",
      "\n",
      "Epoch 00001: LearningRateScheduler reducing learning rate to 8e-05.\n",
      "Epoch 1/25\n",
      "179/179 [==============================] - 356s 2s/step - loss: 1.3468 - sparse_categorical_accuracy: 0.7237\n",
      "\n",
      "Epoch 00002: LearningRateScheduler reducing learning rate to 0.00016.\n",
      "Epoch 2/25\n",
      "179/179 [==============================] - 76s 425ms/step - loss: 0.3337 - sparse_categorical_accuracy: 0.9276\n",
      "\n",
      "Epoch 00003: LearningRateScheduler reducing learning rate to 0.00024000000000000003.\n",
      "Epoch 3/25\n",
      "179/179 [==============================] - 74s 416ms/step - loss: 0.1758 - sparse_categorical_accuracy: 0.9567\n",
      "\n",
      "Epoch 00004: LearningRateScheduler reducing learning rate to 0.00032.\n",
      "Epoch 4/25\n",
      "179/179 [==============================] - 76s 426ms/step - loss: 0.1420 - sparse_categorical_accuracy: 0.9609\n",
      "\n",
      "Epoch 00005: LearningRateScheduler reducing learning rate to 0.0004.\n",
      "Epoch 5/25\n",
      "179/179 [==============================] - 76s 427ms/step - loss: 0.1310 - sparse_categorical_accuracy: 0.9688\n",
      "\n",
      "Epoch 00006: LearningRateScheduler reducing learning rate to 0.00030984000000000003.\n",
      "Epoch 6/25\n",
      "179/179 [==============================] - 77s 429ms/step - loss: 0.0557 - sparse_categorical_accuracy: 0.9898\n",
      "\n",
      "Epoch 00007: LearningRateScheduler reducing learning rate to 0.00024041680000000003.\n",
      "Epoch 7/25\n",
      "179/179 [==============================] - 77s 429ms/step - loss: 0.0219 - sparse_categorical_accuracy: 0.9951\n",
      "\n",
      "Epoch 00008: LearningRateScheduler reducing learning rate to 0.00018696093600000004.\n",
      "Epoch 8/25\n",
      "179/179 [==============================] - 77s 430ms/step - loss: 0.0112 - sparse_categorical_accuracy: 0.9979\n",
      "\n",
      "Epoch 00009: LearningRateScheduler reducing learning rate to 0.00014579992072000003.\n",
      "Epoch 9/25\n",
      "179/179 [==============================] - 77s 430ms/step - loss: 0.0077 - sparse_categorical_accuracy: 0.9979\n",
      "\n",
      "Epoch 00010: LearningRateScheduler reducing learning rate to 0.00011410593895440002.\n",
      "Epoch 10/25\n",
      "179/179 [==============================] - 77s 430ms/step - loss: 0.0045 - sparse_categorical_accuracy: 0.9995\n",
      "\n",
      "Epoch 00011: LearningRateScheduler reducing learning rate to 8.970157299488802e-05.\n",
      "Epoch 11/25\n",
      "179/179 [==============================] - 77s 430ms/step - loss: 0.0042 - sparse_categorical_accuracy: 0.9986\n",
      "\n",
      "Epoch 00012: LearningRateScheduler reducing learning rate to 7.091021120606377e-05.\n",
      "Epoch 12/25\n",
      "179/179 [==============================] - 77s 431ms/step - loss: 0.0025 - sparse_categorical_accuracy: 1.0000\n",
      "\n",
      "Epoch 00013: LearningRateScheduler reducing learning rate to 5.644086262866911e-05.\n",
      "Epoch 13/25\n",
      "179/179 [==============================] - 77s 430ms/step - loss: 0.0026 - sparse_categorical_accuracy: 1.0000\n",
      "\n",
      "Epoch 00014: LearningRateScheduler reducing learning rate to 4.529946422407521e-05.\n",
      "Epoch 14/25\n",
      "179/179 [==============================] - 76s 425ms/step - loss: 0.0017 - sparse_categorical_accuracy: 1.0000\n",
      "\n",
      "Epoch 00015: LearningRateScheduler reducing learning rate to 3.6720587452537916e-05.\n",
      "Epoch 15/25\n",
      "179/179 [==============================] - 75s 420ms/step - loss: 0.0019 - sparse_categorical_accuracy: 0.9998\n",
      "\n",
      "Epoch 00016: LearningRateScheduler reducing learning rate to 3.0114852338454193e-05.\n",
      "Epoch 16/25\n",
      "179/179 [==============================] - 76s 427ms/step - loss: 0.0015 - sparse_categorical_accuracy: 1.0000\n",
      "\n",
      "Epoch 00017: LearningRateScheduler reducing learning rate to 2.5028436300609727e-05.\n",
      "Epoch 17/25\n",
      "179/179 [==============================] - 76s 427ms/step - loss: 0.0014 - sparse_categorical_accuracy: 1.0000\n",
      "\n",
      "Epoch 00018: LearningRateScheduler reducing learning rate to 2.111189595146949e-05.\n",
      "Epoch 18/25\n",
      "179/179 [==============================] - 77s 429ms/step - loss: 0.0012 - sparse_categorical_accuracy: 1.0000\n",
      "\n",
      "Epoch 00019: LearningRateScheduler reducing learning rate to 1.8096159882631512e-05.\n",
      "Epoch 19/25\n",
      "179/179 [==============================] - 77s 430ms/step - loss: 0.0012 - sparse_categorical_accuracy: 1.0000\n",
      "\n",
      "Epoch 00020: LearningRateScheduler reducing learning rate to 1.5774043109626263e-05.\n",
      "Epoch 20/25\n",
      "179/179 [==============================] - 77s 429ms/step - loss: 0.0013 - sparse_categorical_accuracy: 1.0000\n",
      "\n",
      "Epoch 00021: LearningRateScheduler reducing learning rate to 1.3986013194412222e-05.\n",
      "Epoch 21/25\n",
      "179/179 [==============================] - 76s 427ms/step - loss: 0.0011 - sparse_categorical_accuracy: 1.0000\n",
      "\n",
      "Epoch 00022: LearningRateScheduler reducing learning rate to 1.2609230159697412e-05.\n",
      "Epoch 22/25\n",
      "179/179 [==============================] - 77s 430ms/step - loss: 0.0010 - sparse_categorical_accuracy: 1.0000\n",
      "\n",
      "Epoch 00023: LearningRateScheduler reducing learning rate to 1.1549107222967007e-05.\n",
      "Epoch 23/25\n",
      "179/179 [==============================] - 77s 431ms/step - loss: 0.0010 - sparse_categorical_accuracy: 1.0000\n",
      "\n",
      "Epoch 00024: LearningRateScheduler reducing learning rate to 1.0732812561684596e-05.\n",
      "Epoch 24/25\n",
      "179/179 [==============================] - 77s 428ms/step - loss: 0.0011 - sparse_categorical_accuracy: 1.0000\n",
      "\n",
      "Epoch 00025: LearningRateScheduler reducing learning rate to 1.0104265672497138e-05.\n",
      "Epoch 25/25\n",
      "179/179 [==============================] - 75s 419ms/step - loss: 8.7098e-04 - sparse_categorical_accuracy: 1.0000\n"
     ]
    }
   ],
   "source": [
    "history2 = model2.fit(\n",
    "    get_training_dataset_model2(), \n",
    "    steps_per_epoch=STEPS_PER_EPOCH_model2,\n",
    "    epochs=EPOCHS, \n",
    "    callbacks=[es_callback],\n",
    "    validation_data=None if SKIP_VALIDATION else get_validation_dataset()\n",
    ")"
   ]
  },
  {
   "cell_type": "code",
   "execution_count": 30,
   "metadata": {},
   "outputs": [],
   "source": [
    "exec_history = measure_time(exec_history, \"Finish training DenseNet 201\")"
   ]
  },
  {
   "cell_type": "code",
   "execution_count": 31,
   "metadata": {},
   "outputs": [],
   "source": [
    "if not SKIP_VALIDATION:\n",
    "    display_training_curves(history2.history['loss'], history2.history['val_loss'], 'loss', 211)\n",
    "    display_training_curves(history2.history['sparse_categorical_accuracy'], history2.history['val_sparse_categorical_accuracy'], 'accuracy', 212)"
   ]
  },
  {
   "cell_type": "markdown",
   "metadata": {},
   "source": [
    "### Validation"
   ]
  },
  {
   "cell_type": "code",
   "execution_count": 32,
   "metadata": {},
   "outputs": [],
   "source": [
    "if not SKIP_VALIDATION:\n",
    "    from sklearn.metrics import classification_report\n",
    "    from sklearn.metrics import accuracy_score\n",
    "\n",
    "\n",
    "    def show_report(model):\n",
    "        val_dataset = load_dataset(VALIDATION_FILENAMES, labeled=False, ordered=True)\n",
    "\n",
    "        val_dataset = val_dataset.batch(BATCH_SIZE)\n",
    "        val_dataset = val_dataset.prefetch(AUTO)\n",
    "        #val_images_ds = val_dataset.map(normalize_testset)\n",
    "        val_images_ds = val_dataset.map(lambda image, idnum: image)\n",
    "\n",
    "        val_dataset2 = load_dataset(VALIDATION_FILENAMES, labeled=True, ordered=True)\n",
    "        val_labels_ds = [ label.numpy() for image, label in val_dataset2]\n",
    "        # val_names_ds = val_labels_ds.map(lambda idnum: CLASSES[idnum])\n",
    "\n",
    "        print(\"[INFO] evaluating...\")\n",
    "        probabilities = model.predict(val_images_ds)\n",
    "        predictions = np.argmax(probabilities, axis=-1)\n",
    "        print(classification_report(val_labels_ds, predictions, target_names=CLASSES))\n",
    "\n",
    "        # # compute the raw accuracy with extra precision\n",
    "        acc = accuracy_score(val_labels_ds, predictions)\n",
    "        print(\"[INFO] score: {}\".format(acc))\n",
    "\n",
    "    show_report(model)\n",
    "    show_report(model2)"
   ]
  },
  {
   "cell_type": "code",
   "execution_count": 33,
   "metadata": {},
   "outputs": [],
   "source": [
    "if not SKIP_VALIDATION: \n",
    "    cmdataset = get_validation_dataset(ordered=True) # since we are splitting the dataset and iterating separately on images and labels, order matters.    \n",
    "    images_ds = cmdataset.map(lambda image, label: image)\n",
    "    labels_ds = cmdataset.map(lambda image, label: label).unbatch()\n",
    "    cm_correct_labels = next(iter(labels_ds.batch(NUM_VALIDATION_IMAGES))).numpy() # get everything as one batch\n",
    "    m = model.predict(images_ds)\n",
    "    m2 = model2.predict(images_ds)\n",
    "    scores = []\n",
    "    for alpha in np.linspace(0,1,100):\n",
    "        cm_probabilities = alpha*m+(1-alpha)*m2\n",
    "    #cm_probabilities = (model.predict(images_ds)*0.3)+model2.predict(images_ds)*0.7 \n",
    "        cm_predictions = np.argmax(cm_probabilities, axis=-1)\n",
    "        scores.append(f1_score(cm_correct_labels, cm_predictions, labels=range(len(CLASSES)), average='macro'))\n",
    "    print(\"Correct   labels: \", cm_correct_labels.shape, cm_correct_labels)\n",
    "    print(\"Predicted labels: \", cm_predictions.shape, cm_predictions)\n",
    "    plt.plot(scores)\n",
    "    best_alpha = np.argmax(scores)/100\n",
    "    cm_probabilities = best_alpha*m  +  (1-best_alpha)*m2\n",
    "    cm_predictions = np.argmax(cm_probabilities, axis=-1)\n",
    "else:\n",
    "    best_alpha = 0.53"
   ]
  },
  {
   "cell_type": "code",
   "execution_count": 34,
   "metadata": {},
   "outputs": [
    {
     "name": "stdout",
     "output_type": "stream",
     "text": [
      "0.53\n"
     ]
    }
   ],
   "source": [
    "print(best_alpha)"
   ]
  },
  {
   "cell_type": "markdown",
   "metadata": {},
   "source": [
    "Confusion matrix"
   ]
  },
  {
   "cell_type": "code",
   "execution_count": 35,
   "metadata": {},
   "outputs": [],
   "source": [
    "if not SKIP_VALIDATION:\n",
    "    cmat = confusion_matrix(cm_correct_labels, cm_predictions, labels=range(len(CLASSES)))\n",
    "    score = f1_score(cm_correct_labels, cm_predictions, labels=range(len(CLASSES)), average='macro')\n",
    "    precision = precision_score(cm_correct_labels, cm_predictions, labels=range(len(CLASSES)), average='macro')\n",
    "    recall = recall_score(cm_correct_labels, cm_predictions, labels=range(len(CLASSES)), average='macro')\n",
    "    #cmat = (cmat.T / cmat.sum(axis=1)).T # normalized\n",
    "    display_confusion_matrix(cmat, score, precision, recall)\n",
    "    print('f1 score: {:.3f}, precision: {:.3f}, recall: {:.3f}'.format(score, precision, recall))"
   ]
  },
  {
   "cell_type": "markdown",
   "metadata": {},
   "source": [
    "# Predictions"
   ]
  },
  {
   "cell_type": "code",
   "execution_count": 36,
   "metadata": {},
   "outputs": [],
   "source": [
    "exec_history = measure_time(exec_history, \"Start calculating predictions\")"
   ]
  },
  {
   "cell_type": "code",
   "execution_count": 37,
   "metadata": {},
   "outputs": [
    {
     "name": "stdout",
     "output_type": "stream",
     "text": [
      "Computing predictions...\n",
      "[ 67  28  83 ...  95 102  62]\n",
      "Generating submission.csv file...\n"
     ]
    }
   ],
   "source": [
    "test_dataset = get_test_dataset(ordered=True) # since we are splitting the dataset and iterating separately on images and ids, order matters.\n",
    "\n",
    "print('Computing predictions...')\n",
    "test_images_ds = test_dataset.map(lambda image, idnum: image)\n",
    "probabilities = best_alpha*model.predict(test_images_ds) + (1-best_alpha)*model2.predict(test_images_ds)\n",
    "predictions = np.argmax(probabilities, axis=-1)\n",
    "print(predictions)\n",
    "\n",
    "print('Generating submission.csv file...')\n",
    "test_ids_ds = test_dataset.map(lambda image, idnum: idnum).unbatch()\n",
    "test_ids = next(iter(test_ids_ds.batch(NUM_TEST_IMAGES))).numpy().astype('U') # all in one batch\n",
    "np.savetxt('submission.csv', np.rec.fromarrays([test_ids, predictions]), fmt=['%s', '%d'], delimiter=',', header='id,label', comments='')"
   ]
  },
  {
   "cell_type": "code",
   "execution_count": 38,
   "metadata": {},
   "outputs": [
    {
     "name": "stdout",
     "output_type": "stream",
     "text": [
      "   0.00s - Start notebook\n",
      "  22.01s - Import libraries, initilialize TPU and config\n",
      "  22.16s - Initialize dataset, visualization and augmentation functions\n",
      "  22.58s - Begin downloading ENet B7\n",
      " 112.89s - Finish downloading ENet B7, start training ENet B7\n",
      "5698.45s - Finish training ENet B7\n",
      "5698.47s - Begin downloading DenseNet 201\n",
      "5763.31s - Finish downloading DenseNet 201, start training DenseNet 201\n",
      "7956.97s - Finish training DenseNet 201\n",
      "7957.04s - Start calculating predictions\n",
      "8199.08s - Finish calculating predictions\n"
     ]
    }
   ],
   "source": [
    "exec_history = measure_time(exec_history, \"Finish calculating predictions\")\n",
    "\n",
    "for event in exec_history:\n",
    "    print(f'{event[1]:7.2f}s - {event[0]}')"
   ]
  },
  {
   "cell_type": "code",
   "execution_count": null,
   "metadata": {},
   "outputs": [],
   "source": []
  },
  {
   "cell_type": "code",
   "execution_count": null,
   "metadata": {},
   "outputs": [],
   "source": []
  }
 ],
 "metadata": {
  "kernelspec": {
   "display_name": "Python 3",
   "language": "python",
   "name": "python3"
  },
  "language_info": {
   "codemirror_mode": {
    "name": "ipython",
    "version": 3
   },
   "file_extension": ".py",
   "mimetype": "text/x-python",
   "name": "python",
   "nbconvert_exporter": "python",
   "pygments_lexer": "ipython3",
   "version": "3.6.6"
  }
 },
 "nbformat": 4,
 "nbformat_minor": 4
}
